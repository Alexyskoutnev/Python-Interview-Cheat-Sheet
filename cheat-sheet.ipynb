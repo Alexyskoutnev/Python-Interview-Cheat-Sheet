{
 "cells": [
  {
   "cell_type": "markdown",
   "metadata": {},
   "source": [
    "## List\n",
    "Built-in constructor for creating lists, a versatile data structure. It can convert iterable objects into lists, make shallow copies of existing lists, and create nested lists. Lists are mutable and support common list operations, including indexing and various list methods.\n",
    "\n",
    "- `append()` | Add an element to the end of the list.\n",
    "- `pop()` | Remove and return the last element of the list.\n",
    "- `insert()` | Insert an element at a specified position.\n",
    "- `index()` | Find the index of a specifc value in teh list.\n",
    "- `remove()` | Remove the first occurence of a specified value.\n",
    "- `len()` | Get the length of the list"
   ]
  },
  {
   "cell_type": "code",
   "execution_count": 1144,
   "metadata": {},
   "outputs": [],
   "source": [
    "LIST = [1, 2, 3, 5, 6]"
   ]
  },
  {
   "cell_type": "code",
   "execution_count": 1145,
   "metadata": {},
   "outputs": [
    {
     "data": {
      "text/plain": [
       "[1, 2, 3, 5, 6, 2]"
      ]
     },
     "execution_count": 1145,
     "metadata": {},
     "output_type": "execute_result"
    }
   ],
   "source": [
    "LIST.append(2)\n",
    "LIST"
   ]
  },
  {
   "cell_type": "code",
   "execution_count": 1146,
   "metadata": {},
   "outputs": [
    {
     "data": {
      "text/plain": [
       "[1, 2, 3, 5]"
      ]
     },
     "execution_count": 1146,
     "metadata": {},
     "output_type": "execute_result"
    }
   ],
   "source": [
    "LIST.pop()\n",
    "LIST.pop()\n",
    "LIST"
   ]
  },
  {
   "cell_type": "code",
   "execution_count": 1147,
   "metadata": {},
   "outputs": [
    {
     "data": {
      "text/plain": [
       "[1, 'hi', 2, 3, 5]"
      ]
     },
     "execution_count": 1147,
     "metadata": {},
     "output_type": "execute_result"
    }
   ],
   "source": [
    "LIST.insert(1, 'hi') #(index, value)\n",
    "LIST"
   ]
  },
  {
   "cell_type": "code",
   "execution_count": 1148,
   "metadata": {},
   "outputs": [
    {
     "data": {
      "text/plain": [
       "[1, 2, 3, 5]"
      ]
     },
     "execution_count": 1148,
     "metadata": {},
     "output_type": "execute_result"
    }
   ],
   "source": [
    "LIST.remove('hi') #remove 'hi' from list\n",
    "LIST"
   ]
  },
  {
   "cell_type": "code",
   "execution_count": 1149,
   "metadata": {},
   "outputs": [
    {
     "data": {
      "text/plain": [
       "4"
      ]
     },
     "execution_count": 1149,
     "metadata": {},
     "output_type": "execute_result"
    }
   ],
   "source": [
    "n = len(LIST)\n",
    "n"
   ]
  },
  {
   "cell_type": "markdown",
   "metadata": {},
   "source": [
    "## Sets\n",
    "set() is a built-in constructor in Python for creating sets, an unordered collection of unique elements. It can convert iterable objects into sets and remove duplicates. Sets are mutable, support common set operations like union and intersection, and can be used for membership testing and eliminating duplicates.\n",
    "\n",
    "- `add()`: Add an element to the set.\n",
    "- `remove()`: Remove an element from the set.\n",
    "- `union()`: Perform the union of two sets.\n",
    "- `intersection()`: Perform the intersection of two sets.\n",
    "- `difference()`: Find the difference between two sets."
   ]
  },
  {
   "cell_type": "code",
   "execution_count": 1150,
   "metadata": {},
   "outputs": [
    {
     "data": {
      "text/plain": [
       "{1, 3, 4}"
      ]
     },
     "execution_count": 1150,
     "metadata": {},
     "output_type": "execute_result"
    }
   ],
   "source": [
    "SET = set((1, 1, 3, 4))\n",
    "SET #only unique elements are stores, duplicates are removed"
   ]
  },
  {
   "cell_type": "code",
   "execution_count": 1151,
   "metadata": {},
   "outputs": [
    {
     "data": {
      "text/plain": [
       "{1, 3, 4, 'HI'}"
      ]
     },
     "execution_count": 1151,
     "metadata": {},
     "output_type": "execute_result"
    }
   ],
   "source": [
    "SET.add('HI')\n",
    "SET"
   ]
  },
  {
   "cell_type": "code",
   "execution_count": 1152,
   "metadata": {},
   "outputs": [
    {
     "data": {
      "text/plain": [
       "{1, 3, 'HI'}"
      ]
     },
     "execution_count": 1152,
     "metadata": {},
     "output_type": "execute_result"
    }
   ],
   "source": [
    "SET.remove(4)\n",
    "SET"
   ]
  },
  {
   "cell_type": "code",
   "execution_count": 1153,
   "metadata": {},
   "outputs": [
    {
     "data": {
      "text/plain": [
       "{1, 3, 5, 928, 'HI'}"
      ]
     },
     "execution_count": 1153,
     "metadata": {},
     "output_type": "execute_result"
    }
   ],
   "source": [
    "SET1 = {'HI', 5, 928}\n",
    "NEW_SET = SET.union(SET1)\n",
    "NEW_SET"
   ]
  },
  {
   "cell_type": "code",
   "execution_count": 1154,
   "metadata": {},
   "outputs": [
    {
     "data": {
      "text/plain": [
       "{1, 3, 'HI'}"
      ]
     },
     "execution_count": 1154,
     "metadata": {},
     "output_type": "execute_result"
    }
   ],
   "source": [
    "NEW_SET_INT = NEW_SET.intersection(SET) # {1, 3, 5, 928, 'hi'} AND {1, 3, 'hi'} -> {1, 3, 'hi'}\n",
    "NEW_SET_INT"
   ]
  },
  {
   "cell_type": "markdown",
   "metadata": {},
   "source": []
  },
  {
   "cell_type": "code",
   "execution_count": 1155,
   "metadata": {},
   "outputs": [
    {
     "data": {
      "text/plain": [
       "{5, 928}"
      ]
     },
     "execution_count": 1155,
     "metadata": {},
     "output_type": "execute_result"
    }
   ],
   "source": [
    "NEW_SET_DIFF = NEW_SET.difference(SET) # {1, 3, 5, 928, 'hi'} DIFF {1, 3, 'hi'} -> {5, 928}\n",
    "NEW_SET_DIFF"
   ]
  },
  {
   "cell_type": "markdown",
   "metadata": {},
   "source": [
    "## Dictionaries\n",
    "dict() is a Python built-in constructor for creating dictionaries, a collection of key-value pairs. It can convert iterable objects or provide key-value pairs for dictionary creation. Dictionaries are mutable, unordered, and support common dictionary operations, including key access, insertion, and deletion, making them useful for data mapping.\n",
    "- `get()`: Retrieve the value associated with a key.\n",
    "- `keys()`: Get a list of keys in the dictionary.\n",
    "- `values()`: Get a list of values in the dictionary.\n",
    "- `items()`: Get a list of key-value pairs in the dictionary.\n",
    "- `len()`: Get the number of key-value pairs in the dictionary."
   ]
  },
  {
   "cell_type": "code",
   "execution_count": 1156,
   "metadata": {},
   "outputs": [
    {
     "data": {
      "text/plain": [
       "{'1': 1, '2': 3, 'hello': 'there', 1: 2}"
      ]
     },
     "execution_count": 1156,
     "metadata": {},
     "output_type": "execute_result"
    }
   ],
   "source": [
    "DICT = {\"1\" : 1, \"2\" : 3, \"hello\" : \"there\", 1 :  2}\n",
    "DICT"
   ]
  },
  {
   "cell_type": "code",
   "execution_count": 1157,
   "metadata": {},
   "outputs": [
    {
     "name": "stdout",
     "output_type": "stream",
     "text": [
      "there\n",
      "None\n"
     ]
    }
   ],
   "source": [
    "s = DICT.get('hello')\n",
    "print(s)\n",
    "S = DICT.get('nothing here') # Should return None (defualt case of .get())\n",
    "print(S)"
   ]
  },
  {
   "cell_type": "code",
   "execution_count": 1158,
   "metadata": {},
   "outputs": [
    {
     "data": {
      "text/plain": [
       "dict_keys(['1', '2', 'hello', 1])"
      ]
     },
     "execution_count": 1158,
     "metadata": {},
     "output_type": "execute_result"
    }
   ],
   "source": [
    "keys = DICT.keys()\n",
    "keys"
   ]
  },
  {
   "cell_type": "code",
   "execution_count": 1159,
   "metadata": {},
   "outputs": [
    {
     "data": {
      "text/plain": [
       "dict_values([1, 3, 'there', 2])"
      ]
     },
     "execution_count": 1159,
     "metadata": {},
     "output_type": "execute_result"
    }
   ],
   "source": [
    "values = DICT.values()\n",
    "values"
   ]
  },
  {
   "cell_type": "code",
   "execution_count": 1160,
   "metadata": {},
   "outputs": [
    {
     "data": {
      "text/plain": [
       "dict_items([('1', 1), ('2', 3), ('hello', 'there'), (1, 2)])"
      ]
     },
     "execution_count": 1160,
     "metadata": {},
     "output_type": "execute_result"
    }
   ],
   "source": [
    "items = DICT.items()\n",
    "items"
   ]
  },
  {
   "cell_type": "code",
   "execution_count": 1161,
   "metadata": {},
   "outputs": [
    {
     "data": {
      "text/plain": [
       "4"
      ]
     },
     "execution_count": 1161,
     "metadata": {},
     "output_type": "execute_result"
    }
   ],
   "source": [
    "number_of_key_values = len(DICT)\n",
    "number_of_key_values"
   ]
  },
  {
   "cell_type": "markdown",
   "metadata": {},
   "source": [
    "Strings\n",
    "\n",
    "- String manipulation: Slicing, concatenation, and searching.\n",
    "- `str.split()`: Split a string into a list of substrings.\n",
    "- `str.join()`: Join a list of strings into one string.\n",
    "- `str.strip()`: Remove leading and trailing whitespace.\n",
    "- `str.replace()`: Replace occurrences of a substring with another string."
   ]
  },
  {
   "cell_type": "code",
   "execution_count": 1162,
   "metadata": {},
   "outputs": [],
   "source": [
    "STRING = \"HELLO THERE MATE!\"\n",
    "STRING2 = \"Yes, hello there\""
   ]
  },
  {
   "cell_type": "code",
   "execution_count": 1163,
   "metadata": {},
   "outputs": [
    {
     "data": {
      "text/plain": [
       "['HELLO ', 'HERE MA', 'E!']"
      ]
     },
     "execution_count": 1163,
     "metadata": {},
     "output_type": "execute_result"
    }
   ],
   "source": [
    "split_str = STRING.split('T')\n",
    "split_str"
   ]
  },
  {
   "cell_type": "code",
   "execution_count": 1164,
   "metadata": {},
   "outputs": [
    {
     "data": {
      "text/plain": [
       "'Hello - world - Python - rocks - 1'"
      ]
     },
     "execution_count": 1164,
     "metadata": {},
     "output_type": "execute_result"
    }
   ],
   "source": [
    "words = [\"Hello\", \"world\", \"Python\", \"rocks\", str(1)]\n",
    "joined_string = \" - \".join(words) #places ' - ' between every list element\n",
    "joined_string"
   ]
  },
  {
   "cell_type": "code",
   "execution_count": 1165,
   "metadata": {},
   "outputs": [
    {
     "name": "stderr",
     "output_type": "stream",
     "text": [
      "/Users/alexy/Library/Python/3.11/lib/python/site-packages/IPython/core/displayhook.py:275: UserWarning: Output cache limit (currently 1000 entries) hit.\n",
      "Flushing oldest 200 entries.\n",
      "  warn('Output cache limit (currently {sz} entries) hit.\\n'\n"
     ]
    },
    {
     "data": {
      "text/plain": [
       "'Hello - world - Python - rocks - 1                           '"
      ]
     },
     "execution_count": 1165,
     "metadata": {},
     "output_type": "execute_result"
    }
   ],
   "source": [
    "joined_string += '                           '\n",
    "joined_string"
   ]
  },
  {
   "cell_type": "code",
   "execution_count": 1166,
   "metadata": {},
   "outputs": [
    {
     "data": {
      "text/plain": [
       "'Hello - world - Python - rocks - 1'"
      ]
     },
     "execution_count": 1166,
     "metadata": {},
     "output_type": "execute_result"
    }
   ],
   "source": [
    "joined_string.strip()"
   ]
  },
  {
   "cell_type": "code",
   "execution_count": 1167,
   "metadata": {},
   "outputs": [
    {
     "data": {
      "text/plain": [
       "'Hello - world - Python - rocks - forever                           '"
      ]
     },
     "execution_count": 1167,
     "metadata": {},
     "output_type": "execute_result"
    }
   ],
   "source": [
    "joined_string.replace(str(1), 'forever') #(value to find, replacing value)"
   ]
  },
  {
   "cell_type": "code",
   "execution_count": 1168,
   "metadata": {},
   "outputs": [
    {
     "name": "stdout",
     "output_type": "stream",
     "text": [
      "1 is numeric -> False\n",
      "1 is numeric -> True\n",
      "1 is either numeric or alphabet -> True\n",
      "1 unicode -> 49\n",
      "a unicode conversion -> a\n"
     ]
    }
   ],
   "source": [
    "num = str(1)\n",
    "alphabet = 'a'\n",
    "unicode_a = 97\n",
    "print(f\"1 is numeric -> {num.isalpha()}\")\n",
    "print(f\"1 is numeric -> {num.isnumeric()}\")\n",
    "print(f\"1 is either numeric or alphabet -> {num.isalnum()}\")\n",
    "print(f'1 unicode -> {ord(num)}')\n",
    "print(f'a unicode conversion -> {chr(unicode_a)}')\n"
   ]
  },
  {
   "cell_type": "markdown",
   "metadata": {},
   "source": [
    "# NumPy Array Operations\n",
    "\n",
    "NumPy is a powerful library for numerical operations in Python, and understanding its key methods and functions is crucial for efficient data manipulation and scientific computing. Here are some of the essential methods and functions when working with NumPy arrays:\n",
    "\n",
    "## Array Creation\n",
    "\n",
    "- `np.array()`: Create an array from an iterable.\n",
    "- `np.zeros()`: Generate an array of zeros.\n",
    "- `np.ones()`: Create an array of ones.\n",
    "- `np.empty()`: Generate an uninitialized array.\n",
    "- `np.arange()`: Generate an array with regularly spaced values.\n",
    "- `np.linspace()`: Create an array with evenly spaced values.\n",
    "\n",
    "## Array Shape and Dimensions\n",
    "\n",
    "- `array.shape`: Get the shape of the array.\n",
    "- `array.ndim`: Get the number of dimensions.\n",
    "- `array.size`: Get the number of elements.\n",
    "- `array.reshape()`: Reshape the array.\n",
    "\n",
    "## Array Indexing and Slicing\n",
    "\n",
    "- `array[index]`: Access elements at a specific index.\n",
    "- `array[start:stop]`: Slice the array.\n",
    "- `array[start:stop:step]`: Slice with a step.\n",
    "- `array[condition]`: Use Boolean conditions for filtering.\n",
    "\n",
    "## Mathematical Operations\n",
    "\n",
    "- `np.add()`: Element-wise addition.\n",
    "- `np.subtract()`: Element-wise subtraction.\n",
    "- `np.multiply()`: Element-wise multiplication.\n",
    "- `np.divide()`: Element-wise division.\n",
    "- `np.dot()`: Compute the dot product.\n",
    "- `np.sum()`, `np.mean()`, `np.max()`, `np.min()`: Basic statistics.\n",
    "\n",
    "## Array Manipulation\n",
    "\n",
    "- `np.append()`: Append values to an array.\n",
    "- `np.concatenate()`: Concatenate arrays along an axis.\n",
    "- `np.vstack()`: Vertically stack arrays.\n",
    "- `np.hstack()`: Horizontally stack arrays.\n",
    "- `np.split()`: Split an array into sub-arrays.\n",
    "- `np.transpose()`: Transpose the array.\n",
    "\n",
    "## Random Number Generation\n",
    "\n",
    "- `np.random.rand()`: Generate random numbers from a uniform distribution.\n",
    "- `np.random.randn()`: Generate random numbers from a standard normal distribution.\n",
    "- `np.random.randint()`: Generate random integers.\n",
    "\n",
    "## Statistics and Linear Algebra\n",
    "\n",
    "- `np.mean()`, `np.std()`, `np.var()`: Calculate statistics.\n",
    "- `np.linalg.inv()`: Compute the inverse of a matrix.\n",
    "- `np.linalg.det()`: Calculate the determinant.\n",
    "- `np.linalg.eig()`: Compute eigenvalues and eigenvectors.\n",
    "\n",
    "## Array Comparison and Logical Operations\n",
    "\n",
    "- `np.equal()`, `np.not_equal()`: Element-wise array comparison.\n",
    "- `np.logical_and()`, `np.logical_or()`: Element-wise logical operations.\n",
    "\n",
    "## Advanced Features\n",
    "\n",
    "- Broadcasting: Understand array broadcasting for different shapes.\n",
    "- Universal Functions (ufuncs): Utilize universal functions for element-wise operations.\n",
    "- Masked Arrays: Handle missing or invalid data with masked arrays."
   ]
  },
  {
   "cell_type": "code",
   "execution_count": 1169,
   "metadata": {},
   "outputs": [
    {
     "data": {
      "text/plain": [
       "array([1, 2, 3, 4])"
      ]
     },
     "execution_count": 1169,
     "metadata": {},
     "output_type": "execute_result"
    }
   ],
   "source": [
    "import numpy as np\n",
    "arr = np.array([1, 2, 3, 4])\n",
    "arr"
   ]
  },
  {
   "cell_type": "code",
   "execution_count": 1170,
   "metadata": {},
   "outputs": [
    {
     "data": {
      "text/plain": [
       "array([0., 0., 0., 0., 0.])"
      ]
     },
     "execution_count": 1170,
     "metadata": {},
     "output_type": "execute_result"
    }
   ],
   "source": [
    "zeros = np.zeros(5)\n",
    "zeros"
   ]
  },
  {
   "cell_type": "code",
   "execution_count": 1171,
   "metadata": {},
   "outputs": [
    {
     "data": {
      "text/plain": [
       "array([1., 1., 1., 1., 1.])"
      ]
     },
     "execution_count": 1171,
     "metadata": {},
     "output_type": "execute_result"
    }
   ],
   "source": [
    "ones = np.ones(5)\n",
    "ones"
   ]
  },
  {
   "cell_type": "code",
   "execution_count": 1172,
   "metadata": {},
   "outputs": [
    {
     "data": {
      "text/plain": [
       "array([1., 1., 1., 1., 1.])"
      ]
     },
     "execution_count": 1172,
     "metadata": {},
     "output_type": "execute_result"
    }
   ],
   "source": [
    "empty = np.empty(5)\n",
    "empty"
   ]
  },
  {
   "cell_type": "code",
   "execution_count": 1173,
   "metadata": {},
   "outputs": [
    {
     "data": {
      "text/plain": [
       "array([1, 3, 5, 7, 9])"
      ]
     },
     "execution_count": 1173,
     "metadata": {},
     "output_type": "execute_result"
    }
   ],
   "source": [
    "spaced_values = np.arange(1, 10, 2) #start idx, end idx, step size\n",
    "spaced_values"
   ]
  },
  {
   "cell_type": "code",
   "execution_count": 1174,
   "metadata": {},
   "outputs": [
    {
     "data": {
      "text/plain": [
       "array([   1.        ,   21.3877551 ,   41.7755102 ,   62.16326531,\n",
       "         82.55102041,  102.93877551,  123.32653061,  143.71428571,\n",
       "        164.10204082,  184.48979592,  204.87755102,  225.26530612,\n",
       "        245.65306122,  266.04081633,  286.42857143,  306.81632653,\n",
       "        327.20408163,  347.59183673,  367.97959184,  388.36734694,\n",
       "        408.75510204,  429.14285714,  449.53061224,  469.91836735,\n",
       "        490.30612245,  510.69387755,  531.08163265,  551.46938776,\n",
       "        571.85714286,  592.24489796,  612.63265306,  633.02040816,\n",
       "        653.40816327,  673.79591837,  694.18367347,  714.57142857,\n",
       "        734.95918367,  755.34693878,  775.73469388,  796.12244898,\n",
       "        816.51020408,  836.89795918,  857.28571429,  877.67346939,\n",
       "        898.06122449,  918.44897959,  938.83673469,  959.2244898 ,\n",
       "        979.6122449 , 1000.        ])"
      ]
     },
     "execution_count": 1174,
     "metadata": {},
     "output_type": "execute_result"
    }
   ],
   "source": [
    "linear_nums = np.linspace(1, 1000)\n",
    "linear_nums"
   ]
  },
  {
   "cell_type": "code",
   "execution_count": 1175,
   "metadata": {},
   "outputs": [
    {
     "data": {
      "text/plain": [
       "(4, 2)"
      ]
     },
     "execution_count": 1175,
     "metadata": {},
     "output_type": "execute_result"
    }
   ],
   "source": [
    "ARR = np.array([[1, 2], [5, 2], [44, 2], [1, 1]])\n",
    "ARR.shape"
   ]
  },
  {
   "cell_type": "code",
   "execution_count": 1176,
   "metadata": {},
   "outputs": [
    {
     "data": {
      "text/plain": [
       "2"
      ]
     },
     "execution_count": 1176,
     "metadata": {},
     "output_type": "execute_result"
    }
   ],
   "source": [
    "ARR.ndim"
   ]
  },
  {
   "cell_type": "code",
   "execution_count": 1177,
   "metadata": {},
   "outputs": [
    {
     "data": {
      "text/plain": [
       "8"
      ]
     },
     "execution_count": 1177,
     "metadata": {},
     "output_type": "execute_result"
    }
   ],
   "source": [
    "ARR.size"
   ]
  },
  {
   "cell_type": "code",
   "execution_count": 1178,
   "metadata": {},
   "outputs": [
    {
     "data": {
      "text/plain": [
       "array([[ 1,  2,  5,  2, 44,  2,  1,  1]])"
      ]
     },
     "execution_count": 1178,
     "metadata": {},
     "output_type": "execute_result"
    }
   ],
   "source": [
    "ARR.reshape((1, 8))"
   ]
  },
  {
   "cell_type": "code",
   "execution_count": 1179,
   "metadata": {},
   "outputs": [
    {
     "data": {
      "text/plain": [
       "array([1, 2])"
      ]
     },
     "execution_count": 1179,
     "metadata": {},
     "output_type": "execute_result"
    }
   ],
   "source": [
    "first = ARR[0]\n",
    "first"
   ]
  },
  {
   "cell_type": "code",
   "execution_count": 1180,
   "metadata": {},
   "outputs": [
    {
     "data": {
      "text/plain": [
       "array([[ 1,  2],\n",
       "       [ 5,  2],\n",
       "       [44,  2]])"
      ]
     },
     "execution_count": 1180,
     "metadata": {},
     "output_type": "execute_result"
    }
   ],
   "source": [
    "subset = ARR[0:3]\n",
    "subset"
   ]
  },
  {
   "cell_type": "code",
   "execution_count": 1181,
   "metadata": {},
   "outputs": [
    {
     "data": {
      "text/plain": [
       "array([[ 1,  2],\n",
       "       [44,  2]])"
      ]
     },
     "execution_count": 1181,
     "metadata": {},
     "output_type": "execute_result"
    }
   ],
   "source": [
    "subset_step = ARR[0:4:2]\n",
    "subset_step"
   ]
  },
  {
   "cell_type": "code",
   "execution_count": 1182,
   "metadata": {},
   "outputs": [
    {
     "name": "stdout",
     "output_type": "stream",
     "text": [
      "[[False  True]\n",
      " [ True  True]\n",
      " [ True  True]\n",
      " [False False]]\n"
     ]
    },
    {
     "data": {
      "text/plain": [
       "array([ 2,  5,  2, 44,  2])"
      ]
     },
     "execution_count": 1182,
     "metadata": {},
     "output_type": "execute_result"
    }
   ],
   "source": [
    "condition = ARR > 1\n",
    "print(condition)\n",
    "subset_filter = ARR[condition]\n",
    "subset_filter"
   ]
  },
  {
   "cell_type": "code",
   "execution_count": 1183,
   "metadata": {},
   "outputs": [
    {
     "data": {
      "text/plain": [
       "array([0, 6, 0])"
      ]
     },
     "execution_count": 1183,
     "metadata": {},
     "output_type": "execute_result"
    }
   ],
   "source": [
    "arr1 = np.array([1, 2, 3])\n",
    "arr2 = np.array([-1, 4, -3])\n",
    "np.add(arr1, arr2)"
   ]
  },
  {
   "cell_type": "code",
   "execution_count": 1184,
   "metadata": {},
   "outputs": [
    {
     "data": {
      "text/plain": [
       "array([ 2, -2,  6])"
      ]
     },
     "execution_count": 1184,
     "metadata": {},
     "output_type": "execute_result"
    }
   ],
   "source": [
    "np.subtract(arr1, arr2)"
   ]
  },
  {
   "cell_type": "code",
   "execution_count": 1185,
   "metadata": {},
   "outputs": [
    {
     "data": {
      "text/plain": [
       "array([-1,  8, -9])"
      ]
     },
     "execution_count": 1185,
     "metadata": {},
     "output_type": "execute_result"
    }
   ],
   "source": [
    "np.multiply(arr1, arr2)"
   ]
  },
  {
   "cell_type": "code",
   "execution_count": 1186,
   "metadata": {},
   "outputs": [
    {
     "data": {
      "text/plain": [
       "array([-1. ,  0.5, -1. ])"
      ]
     },
     "execution_count": 1186,
     "metadata": {},
     "output_type": "execute_result"
    }
   ],
   "source": [
    "np.divide(arr1, arr2)"
   ]
  },
  {
   "cell_type": "code",
   "execution_count": 1187,
   "metadata": {},
   "outputs": [
    {
     "data": {
      "text/plain": [
       "-2"
      ]
     },
     "execution_count": 1187,
     "metadata": {},
     "output_type": "execute_result"
    }
   ],
   "source": [
    "np.dot(arr1, arr2)"
   ]
  },
  {
   "cell_type": "code",
   "execution_count": 1188,
   "metadata": {},
   "outputs": [
    {
     "data": {
      "text/plain": [
       "6"
      ]
     },
     "execution_count": 1188,
     "metadata": {},
     "output_type": "execute_result"
    }
   ],
   "source": [
    "np.sum(arr1)"
   ]
  },
  {
   "cell_type": "code",
   "execution_count": 1189,
   "metadata": {},
   "outputs": [
    {
     "data": {
      "text/plain": [
       "2.0"
      ]
     },
     "execution_count": 1189,
     "metadata": {},
     "output_type": "execute_result"
    }
   ],
   "source": [
    "np.mean(arr1)"
   ]
  },
  {
   "cell_type": "code",
   "execution_count": 1190,
   "metadata": {},
   "outputs": [
    {
     "data": {
      "text/plain": [
       "3"
      ]
     },
     "execution_count": 1190,
     "metadata": {},
     "output_type": "execute_result"
    }
   ],
   "source": [
    "np.max(arr1)"
   ]
  },
  {
   "cell_type": "code",
   "execution_count": 1191,
   "metadata": {},
   "outputs": [
    {
     "data": {
      "text/plain": [
       "1"
      ]
     },
     "execution_count": 1191,
     "metadata": {},
     "output_type": "execute_result"
    }
   ],
   "source": [
    "np.min(arr1)"
   ]
  },
  {
   "cell_type": "code",
   "execution_count": 1192,
   "metadata": {},
   "outputs": [
    {
     "data": {
      "text/plain": [
       "array([1, 2, 3, 1])"
      ]
     },
     "execution_count": 1192,
     "metadata": {},
     "output_type": "execute_result"
    }
   ],
   "source": [
    "np.append(arr1, np.array([1]))"
   ]
  },
  {
   "cell_type": "code",
   "execution_count": 1193,
   "metadata": {},
   "outputs": [
    {
     "data": {
      "text/plain": [
       "array([ 1,  2,  3, -1,  4, -3])"
      ]
     },
     "execution_count": 1193,
     "metadata": {},
     "output_type": "execute_result"
    }
   ],
   "source": [
    "new_arr = np.concatenate((arr1, arr2))\n",
    "new_arr"
   ]
  },
  {
   "cell_type": "code",
   "execution_count": 1194,
   "metadata": {},
   "outputs": [
    {
     "data": {
      "text/plain": [
       "array([[ 1,  2,  3],\n",
       "       [-1,  4, -3]])"
      ]
     },
     "execution_count": 1194,
     "metadata": {},
     "output_type": "execute_result"
    }
   ],
   "source": [
    "np.vstack((arr1, arr2))"
   ]
  },
  {
   "cell_type": "code",
   "execution_count": 1195,
   "metadata": {},
   "outputs": [
    {
     "data": {
      "text/plain": [
       "array([ 1,  2,  3, -1,  4, -3])"
      ]
     },
     "execution_count": 1195,
     "metadata": {},
     "output_type": "execute_result"
    }
   ],
   "source": [
    "np.hstack((arr1, arr2))"
   ]
  },
  {
   "cell_type": "code",
   "execution_count": 1196,
   "metadata": {},
   "outputs": [
    {
     "data": {
      "text/plain": [
       "[array([1, 2]), array([ 3, -1]), array([ 4, -3])]"
      ]
     },
     "execution_count": 1196,
     "metadata": {},
     "output_type": "execute_result"
    }
   ],
   "source": [
    "np.split(np.hstack((arr1, arr2)), 3)"
   ]
  },
  {
   "cell_type": "code",
   "execution_count": 1197,
   "metadata": {},
   "outputs": [
    {
     "data": {
      "text/plain": [
       "array([1, 2, 3])"
      ]
     },
     "execution_count": 1197,
     "metadata": {},
     "output_type": "execute_result"
    }
   ],
   "source": [
    "new = np.transpose(arr1)\n",
    "new"
   ]
  },
  {
   "cell_type": "code",
   "execution_count": 1198,
   "metadata": {},
   "outputs": [
    {
     "data": {
      "text/plain": [
       "7.333333333333333"
      ]
     },
     "execution_count": 1198,
     "metadata": {},
     "output_type": "execute_result"
    }
   ],
   "source": [
    "stat_arr = np.array([1, 2, 3, 33, 3, 2])\n",
    "np.mean(stat_arr)"
   ]
  },
  {
   "cell_type": "code",
   "execution_count": 1199,
   "metadata": {},
   "outputs": [
    {
     "data": {
      "text/plain": [
       "11.498792207106893"
      ]
     },
     "execution_count": 1199,
     "metadata": {},
     "output_type": "execute_result"
    }
   ],
   "source": [
    "np.std(stat_arr)"
   ]
  },
  {
   "cell_type": "code",
   "execution_count": 1200,
   "metadata": {},
   "outputs": [
    {
     "data": {
      "text/plain": [
       "132.22222222222223"
      ]
     },
     "execution_count": 1200,
     "metadata": {},
     "output_type": "execute_result"
    }
   ],
   "source": [
    "np.var(stat_arr)"
   ]
  },
  {
   "cell_type": "code",
   "execution_count": 1201,
   "metadata": {},
   "outputs": [
    {
     "data": {
      "text/plain": [
       "array([[3, 2, 1],\n",
       "       [1, 2, 3],\n",
       "       [3, 3, 5]])"
      ]
     },
     "execution_count": 1201,
     "metadata": {},
     "output_type": "execute_result"
    }
   ],
   "source": [
    "mtx = np.array([[3, 2, 1], [1, 2, 3], [3, 3, 5]])\n",
    "mtx"
   ]
  },
  {
   "cell_type": "code",
   "execution_count": 1202,
   "metadata": {},
   "outputs": [
    {
     "data": {
      "text/plain": [
       "array([[ 0.125, -0.875,  0.5  ],\n",
       "       [ 0.5  ,  1.5  , -1.   ],\n",
       "       [-0.375, -0.375,  0.5  ]])"
      ]
     },
     "execution_count": 1202,
     "metadata": {},
     "output_type": "execute_result"
    }
   ],
   "source": [
    "inv_mtx = np.linalg.inv(mtx)\n",
    "inv_mtx"
   ]
  },
  {
   "cell_type": "code",
   "execution_count": 1203,
   "metadata": {},
   "outputs": [
    {
     "data": {
      "text/plain": [
       "8.000000000000002"
      ]
     },
     "execution_count": 1203,
     "metadata": {},
     "output_type": "execute_result"
    }
   ],
   "source": [
    "det = np.linalg.det(mtx)\n",
    "det"
   ]
  },
  {
   "cell_type": "code",
   "execution_count": 1204,
   "metadata": {},
   "outputs": [
    {
     "name": "stdout",
     "output_type": "stream",
     "text": [
      "Eigenvalues -> [8.         0.99999998 1.00000002]\n",
      "Eigenvector -> [[ 3.48742916e-01  7.07106775e-01 -7.07106787e-01]\n",
      " [ 4.64990555e-01 -7.07106787e-01  7.07106775e-01]\n",
      " [ 8.13733471e-01  9.31563337e-09  9.31563351e-09]]\n"
     ]
    }
   ],
   "source": [
    "eigenvalue, eigenvector = np.linalg.eig(mtx)\n",
    "print(f\"Eigenvalues -> {eigenvalue}\")\n",
    "print(f\"Eigenvector -> {eigenvector}\")"
   ]
  },
  {
   "cell_type": "markdown",
   "metadata": {},
   "source": [
    "## Sorting and Searching\n",
    "\n",
    "- Sorting: `sorted()`, `list.sort()`, `sorted(iterable, key=lambda x: ...)`.\n",
    "- Binary search: `bisect.bisect()`, `bisect.bisect_left()`, `bisect.bisect_right()`."
   ]
  },
  {
   "cell_type": "code",
   "execution_count": 1205,
   "metadata": {},
   "outputs": [
    {
     "data": {
      "text/plain": [
       "[-2222, -2, 1, 2, 12, 313]"
      ]
     },
     "execution_count": 1205,
     "metadata": {},
     "output_type": "execute_result"
    }
   ],
   "source": [
    "s = [(1, 'Hello'), (2, 'There'), (10, 'Big Number')]\n",
    "values = [-2, 1, 2, 313, 12, -2222]\n",
    "new_values = sorted(values)\n",
    "new_values #Ascending order (default case)"
   ]
  },
  {
   "cell_type": "code",
   "execution_count": 1206,
   "metadata": {},
   "outputs": [
    {
     "data": {
      "text/plain": [
       "[313, 12, 2, 1, -2, -2222]"
      ]
     },
     "execution_count": 1206,
     "metadata": {},
     "output_type": "execute_result"
    }
   ],
   "source": [
    "new_values.sort(reverse=True) #Descending order\n",
    "new_values"
   ]
  },
  {
   "cell_type": "code",
   "execution_count": 1207,
   "metadata": {},
   "outputs": [
    {
     "data": {
      "text/plain": [
       "[(10, 'Big Number'), (2, 'There'), (1, 'Hello')]"
      ]
     },
     "execution_count": 1207,
     "metadata": {},
     "output_type": "execute_result"
    }
   ],
   "source": [
    "#Sorting based on a key\n",
    "s.sort(key=lambda x : x[0], reverse=True) #Sort based on the first index value of elements in list + reverse the order \n",
    "s"
   ]
  },
  {
   "cell_type": "code",
   "execution_count": 1208,
   "metadata": {},
   "outputs": [
    {
     "name": "stdout",
     "output_type": "stream",
     "text": [
      "[1, 2, 10, 20, 100]\n",
      "Insert 7 at index 2\n"
     ]
    }
   ],
   "source": [
    "import bisect\n",
    "value = 7 # value to place in list\n",
    "sort_arr = [1,2,10, 20, 100]\n",
    "insertion_point = bisect.bisect(sort_arr, value)\n",
    "print(sort_arr)\n",
    "print(f\"Insert {value} at index {insertion_point}\")"
   ]
  },
  {
   "cell_type": "code",
   "execution_count": 1209,
   "metadata": {},
   "outputs": [
    {
     "name": "stdout",
     "output_type": "stream",
     "text": [
      "Insert 8 at index 2\n"
     ]
    }
   ],
   "source": [
    "# Using bisect.bisect_left() to find the leftmost insertion point for a value\n",
    "value = 8\n",
    "leftmost_insertion_point = bisect.bisect_left(sort_arr, value)\n",
    "print(f\"Insert {value} at index {leftmost_insertion_point}\")"
   ]
  },
  {
   "cell_type": "code",
   "execution_count": 1210,
   "metadata": {},
   "outputs": [
    {
     "name": "stdout",
     "output_type": "stream",
     "text": [
      "Insert 8 at index 2\n"
     ]
    }
   ],
   "source": [
    "# Using bisect.bisect_right() to find the rightmost insertion point for a value\n",
    "value = 8\n",
    "rightmost_insertion_point = bisect.bisect_right(sort_arr, value)\n",
    "print(f\"Insert {value} at index {rightmost_insertion_point}\")"
   ]
  },
  {
   "cell_type": "markdown",
   "metadata": {},
   "source": [
    "## Recursion\n",
    "\n",
    "- Understand recursion and implement recursive functions."
   ]
  },
  {
   "cell_type": "code",
   "execution_count": 1211,
   "metadata": {},
   "outputs": [],
   "source": [
    "def factorial(n):\n",
    "    if n == 0: #base case (most recursion problem will have this)\n",
    "        return 1\n",
    "    else:\n",
    "        return n * factorial(n - 1)"
   ]
  },
  {
   "cell_type": "code",
   "execution_count": 1212,
   "metadata": {},
   "outputs": [
    {
     "data": {
      "text/plain": [
       "3628800"
      ]
     },
     "execution_count": 1212,
     "metadata": {},
     "output_type": "execute_result"
    }
   ],
   "source": [
    "result = factorial(10)\n",
    "result"
   ]
  },
  {
   "cell_type": "markdown",
   "metadata": {},
   "source": [
    "## Dynamic Programming\n",
    "\n",
    "- Apply techniques like memoization (caching) to optimize recursive algorithms."
   ]
  },
  {
   "cell_type": "code",
   "execution_count": 1213,
   "metadata": {},
   "outputs": [
    {
     "name": "stdout",
     "output_type": "stream",
     "text": [
      "{0: 0, 1: 1, 2: 1, 3: 2, 4: 3, 5: 5, 6: 8, 7: 13, 8: 21, 9: 34, 10: 55, 11: 89, 12: 144, 13: 233, 14: 377, 15: 610, 16: 987, 17: 1597, 18: 2584, 19: 4181}\n",
      "[0, 1, 1, 2, 3, 5, 8, 13, 21, 34, 55, 89, 144, 233, 377, 610, 987, 1597, 2584, 4181]\n"
     ]
    }
   ],
   "source": [
    "fib_cache = {}\n",
    "\n",
    "def fibonacci(n, cache):\n",
    "    if n in cache:\n",
    "        return cache[n]\n",
    "    if n <= 1:\n",
    "        result = n\n",
    "    else: \n",
    "        result = fibonacci(n - 1, cache) + fibonacci(n - 2, cache)\n",
    "    cache[n] = result\n",
    "    return result\n",
    "fib_sequence = [fibonacci(i, fib_cache) for i in range(20)]\n",
    "print(fib_cache)\n",
    "print(fib_sequence)\n"
   ]
  }
 ],
 "metadata": {
  "kernelspec": {
   "display_name": "Python 3.11.5 64-bit",
   "language": "python",
   "name": "python3"
  },
  "language_info": {
   "codemirror_mode": {
    "name": "ipython",
    "version": 3
   },
   "file_extension": ".py",
   "mimetype": "text/x-python",
   "name": "python",
   "nbconvert_exporter": "python",
   "pygments_lexer": "ipython3",
   "version": "3.11.5"
  },
  "orig_nbformat": 4,
  "vscode": {
   "interpreter": {
    "hash": "b0fa6594d8f4cbf19f97940f81e996739fb7646882a419484c72d19e05852a7e"
   }
  }
 },
 "nbformat": 4,
 "nbformat_minor": 2
}
